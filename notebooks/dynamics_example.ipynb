{
 "cells": [
  {
   "cell_type": "code",
   "execution_count": 1,
   "metadata": {},
   "outputs": [],
   "source": [
    "import numpy as np \n",
    "from scipy.integrate import odeint\n",
    "import matplotlib.pyplot as plt\n",
    "from matplotlib import animation\n",
    "%matplotlib qt"
   ]
  },
  {
   "cell_type": "code",
   "execution_count": 2,
   "metadata": {
    "lines_to_next_cell": 1
   },
   "outputs": [],
   "source": [
    "# ------ Parameters ------\n",
    "m1 = 1\n",
    "m2 = 1\n",
    "I1 = I2 = 0.5\n",
    "l1 = 1\n",
    "lc1 = l1/2\n",
    "l2 = 1\n",
    "lc2 = l2/2\n",
    "g = -9.81\n",
    "n = 2"
   ]
  },
  {
   "cell_type": "markdown",
   "metadata": {},
   "source": [
    "------ Dynamic matrices ------"
   ]
  },
  {
   "cell_type": "code",
   "execution_count": 3,
   "metadata": {
    "lines_to_next_cell": 1
   },
   "outputs": [],
   "source": [
    "def M_matrix(q):\n",
    "    M = np.zeros((2,2))\n",
    "    M[0,0] = m1 * lc1**2 + m2 * (l1**2 + lc2**2 + 2*l1*lc2*np.cos(q[1])) + I1 + I2\n",
    "    M[0,1] = M[1,0] = m2 * (lc2**2 + l1*lc2*np.cos(q[1])) + I2\n",
    "    M[1,1] = m2 * lc2**2 + I2\n",
    "    return M"
   ]
  },
  {
   "cell_type": "code",
   "execution_count": 4,
   "metadata": {
    "lines_to_next_cell": 1
   },
   "outputs": [],
   "source": [
    "def C_matrix(q, dq):\n",
    "    h = -m2 * l1 * lc2 * np.sin(q[1])\n",
    "    C = np.array([[h*dq[1], h*dq[1] + h*dq[0]], [-h*dq[0], 0]])\n",
    "    return C"
   ]
  },
  {
   "cell_type": "code",
   "execution_count": 5,
   "metadata": {
    "lines_to_next_cell": 1
   },
   "outputs": [],
   "source": [
    "def G_vector(q):\n",
    "    G = -np.array([(m1*lc1 + m2*l1)*g*np.cos(q[0]), m2*lc2*g*np.cos(q[0]+q[1])])\n",
    "    return G"
   ]
  },
  {
   "cell_type": "markdown",
   "metadata": {},
   "source": [
    "------ Direct kinematics ------"
   ]
  },
  {
   "cell_type": "code",
   "execution_count": 6,
   "metadata": {
    "lines_to_next_cell": 1
   },
   "outputs": [],
   "source": [
    "def direct_kinematics(q):\n",
    "    return [l1*np.cos(q[0]) + l2*np.cos(q[0]+q[1]), l1*np.sin(q[0]) + l2*np.sin(q[0]+q[1])]"
   ]
  },
  {
   "cell_type": "markdown",
   "metadata": {},
   "source": [
    "------ ODE ------"
   ]
  },
  {
   "cell_type": "code",
   "execution_count": 7,
   "metadata": {
    "lines_to_next_cell": 1
   },
   "outputs": [],
   "source": [
    "def model(x, t, u):\n",
    "    x1 = x[:2] # q\n",
    "    x2 = x[2:] # dq\n",
    "\n",
    "    invM = np.linalg.inv(M_matrix(x1))\n",
    "    C = C_matrix(x1, x2)\n",
    "    G = G_vector(x1)\n",
    "\n",
    "    dx1 = x2\n",
    "    dx2 = invM.dot(u - C.dot(x2) - G)\n",
    "\n",
    "    dxdt = np.concatenate((dx1, dx2), axis = 0)\n",
    "\n",
    "    return dxdt"
   ]
  },
  {
   "cell_type": "markdown",
   "metadata": {},
   "source": [
    "------ Solve ------"
   ]
  },
  {
   "cell_type": "code",
   "execution_count": 8,
   "metadata": {},
   "outputs": [],
   "source": [
    "t = np.linspace(0, 10, 1000)\n",
    "x0 = np.array([0,0,0,0]).reshape((2*n,))\n",
    "u = np.array([1, 1])"
   ]
  },
  {
   "cell_type": "code",
   "execution_count": 9,
   "metadata": {},
   "outputs": [],
   "source": [
    "Q = odeint(model, x0, t, args=(u,))\n",
    "X = np.array([direct_kinematics(q) for q in Q])"
   ]
  },
  {
   "cell_type": "markdown",
   "metadata": {},
   "source": [
    "------ Plot ------"
   ]
  },
  {
   "cell_type": "code",
   "execution_count": 10,
   "metadata": {},
   "outputs": [
    {
     "data": {
      "text/plain": [
       "(0, 10.0)"
      ]
     },
     "execution_count": 10,
     "metadata": {},
     "output_type": "execute_result"
    }
   ],
   "source": [
    "f, (ax1, ax2) = plt.subplots(1, 2, figsize=(12,5))\n",
    "ax1.plot(t, np.rad2deg(Q[:,:2]))\n",
    "ax1.set_title('Angles')\n",
    "ax1.legend(('q1','q2'))\n",
    "ax1.set_xlabel('t (sec)')\n",
    "ax1.set_ylabel('q (deg)')\n",
    "ax1.set_xlim([0, np.max(t)])"
   ]
  },
  {
   "cell_type": "code",
   "execution_count": 11,
   "metadata": {},
   "outputs": [],
   "source": [
    "ax2.plot(t, Q[:,2:])\n",
    "ax2.set_title('Angular velocity')\n",
    "ax2.legend(('w1','w2'))\n",
    "ax2.set_xlabel('t (sec)')\n",
    "ax2.set_ylabel('w (rad/sec)')\n",
    "ax2.set_xlim([0, np.max(t)])\n",
    "plt.show()"
   ]
  },
  {
   "cell_type": "markdown",
   "metadata": {},
   "source": [
    "------ Animate ------"
   ]
  },
  {
   "cell_type": "code",
   "execution_count": 12,
   "metadata": {
    "lines_to_next_cell": 1
   },
   "outputs": [],
   "source": [
    "fig = plt.figure()\n",
    "ax = plt.axes(xlim=(-2, 2), ylim=(-2, 2))\n",
    "ax.set_aspect('equal')\n",
    "lines, = ax.plot([], [], lw=2)\n",
    "points, = ax.plot([], [], 'ok')\n",
    "path, = ax.plot([], [], ':', lw=1)"
   ]
  },
  {
   "cell_type": "code",
   "execution_count": 13,
   "metadata": {
    "lines_to_next_cell": 1
   },
   "outputs": [],
   "source": [
    "def init():\n",
    "    lines.set_data([], [])\n",
    "    points.set_data([], [])\n",
    "    path.set_data([], [])\n",
    "    return lines, points, path,"
   ]
  },
  {
   "cell_type": "code",
   "execution_count": 14,
   "metadata": {
    "lines_to_next_cell": 1
   },
   "outputs": [],
   "source": [
    "# animation function.  This is called sequentially\n",
    "def animate(i):\n",
    "    q = Q[i,:2]\n",
    "    p = np.array([[0, 0], [l1*np.cos(q[0]), l1*np.sin(q[0])], direct_kinematics(q)])\n",
    "\n",
    "    lines.set_data(p[:,0], p[:,1])\n",
    "    points.set_data(p[:,0], p[:,1])\n",
    "    path.set_data(X[:i,0], X[:i,1])\n",
    "    return lines, points, path,"
   ]
  },
  {
   "cell_type": "code",
   "execution_count": 15,
   "metadata": {},
   "outputs": [],
   "source": [
    "anim = animation.FuncAnimation(fig, animate, init_func=init, frames=Q.shape[0], interval=20, blit=False)\n",
    "# anim.save('animation.mp4', fps=30, extra_args=['-vcodec', 'libx264'])"
   ]
  },
  {
   "cell_type": "code",
   "execution_count": 16,
   "metadata": {},
   "outputs": [],
   "source": [
    "plt.show()"
   ]
  }
 ],
 "metadata": {
  "jupytext": {
   "cell_metadata_filter": "-all",
   "notebook_metadata_filter": "-all",
   "text_representation": {
    "extension": ".py",
    "format_name": "light"
   }
  },
  "kernelspec": {
   "display_name": "Python 3.7.7 64-bit ('mdd': conda)",
   "language": "python",
   "name": "python37764bitmddcondacdfe4491a1194055991ee26c9a952ebc"
  },
  "language_info": {
   "codemirror_mode": {
    "name": "ipython",
    "version": 3
   },
   "file_extension": ".py",
   "mimetype": "text/x-python",
   "name": "python",
   "nbconvert_exporter": "python",
   "pygments_lexer": "ipython3",
   "version": "3.7.7"
  }
 },
 "nbformat": 4,
 "nbformat_minor": 4
}
